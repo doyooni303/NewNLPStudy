{
  "nbformat": 4,
  "nbformat_minor": 0,
  "metadata": {
    "kernelspec": {
      "display_name": "Python 3",
      "language": "python",
      "name": "python3"
    },
    "language_info": {
      "codemirror_mode": {
        "name": "ipython",
        "version": 3
      },
      "file_extension": ".py",
      "mimetype": "text/x-python",
      "name": "python",
      "nbconvert_exporter": "python",
      "pygments_lexer": "ipython3",
      "version": "3.6.8"
    },
    "colab": {
      "name": "[Pytorch_NLP] word_embeddings_tutorial.ipynb",
      "provenance": [],
      "collapsed_sections": [
        "VoppTIpYvTOU"
      ],
      "include_colab_link": true
    }
  },
  "cells": [
    {
      "cell_type": "markdown",
      "metadata": {
        "id": "view-in-github",
        "colab_type": "text"
      },
      "source": [
        "<a href=\"https://colab.research.google.com/github/doyooni303/NewNLPStudy/blob/main/%5BPytorch_NLP%5D_word_embeddings_tutorial.ipynb\" target=\"_parent\"><img src=\"https://colab.research.google.com/assets/colab-badge.svg\" alt=\"Open In Colab\"/></a>"
      ]
    },
    {
      "cell_type": "code",
      "metadata": {
        "id": "u4rqN4livTOL"
      },
      "source": [
        "%matplotlib inline"
      ],
      "execution_count": null,
      "outputs": []
    },
    {
      "cell_type": "markdown",
      "metadata": {
        "id": "dkBYb5V1vTOR"
      },
      "source": [
        "\n",
        "Word Embeddings: Encoding Lexical Semantics\n",
        "===========================================\n",
        "\n",
        "Word embeddings are dense vectors of real numbers, one per word in your\n",
        "vocabulary. In NLP, it is almost always the case that your features are\n",
        "words! But how should you represent a word in a computer? You could\n",
        "store its ascii character representation, but that only tells you what\n",
        "the word *is*, it doesn't say much about what it *means* (you might be\n",
        "able to derive its part of speech from its affixes, or properties from\n",
        "its capitalization, but not much). Even more, in what sense could you\n",
        "combine these representations? We often want dense outputs from our\n",
        "neural networks, where the inputs are $|V|$ dimensional, where\n",
        "$V$ is our vocabulary, but often the outputs are only a few\n",
        "dimensional (if we are only predicting a handful of labels, for\n",
        "instance). How do we get from a massive dimensional space to a smaller\n",
        "dimensional space?\n",
        "\n",
        "How about instead of ascii representations, we use a one-hot encoding?\n",
        "That is, we represent the word $w$ by\n",
        "\n",
        "\\begin{align}\\overbrace{\\left[ 0, 0, \\dots, 1, \\dots, 0, 0 \\right]}^\\text{|V| elements}\\end{align}\n",
        "\n",
        "where the 1 is in a location unique to $w$. Any other word will\n",
        "have a 1 in some other location, and a 0 everywhere else.\n",
        "\n",
        "There is an enormous drawback to this representation, besides just how\n",
        "huge it is. It basically treats all words as independent entities with\n",
        "no relation to each other. What we really want is some notion of\n",
        "*similarity* between words. Why? Let's see an example.\n",
        "\n",
        "Suppose we are building a language model. Suppose we have seen the\n",
        "sentences\n",
        "\n",
        "* The mathematician ran to the store.\n",
        "* The physicist ran to the store.\n",
        "* The mathematician solved the open problem.\n",
        "\n",
        "in our training data. Now suppose we get a new sentence never before\n",
        "seen in our training data:\n",
        "\n",
        "* The physicist solved the open problem.\n",
        "\n",
        "Our language model might do OK on this sentence, but wouldn't it be much\n",
        "better if we could use the following two facts:\n",
        "\n",
        "* We have seen  mathematician and physicist in the same role in a sentence. Somehow they\n",
        "  have a semantic relation.\n",
        "* We have seen mathematician in the same role  in this new unseen sentence\n",
        "  as we are now seeing physicist.\n",
        "\n",
        "and then infer that physicist is actually a good fit in the new unseen\n",
        "sentence? This is what we mean by a notion of similarity: we mean\n",
        "*semantic similarity*, not simply having similar orthographic\n",
        "representations. It is a technique to combat the sparsity of linguistic\n",
        "data, by connecting the dots between what we have seen and what we\n",
        "haven't. This example of course relies on a fundamental linguistic\n",
        "assumption: that words appearing in similar contexts are related to each\n",
        "other semantically. This is called the `distributional\n",
        "hypothesis <https://en.wikipedia.org/wiki/Distributional_semantics>`__.\n",
        "\n",
        "\n",
        "Getting Dense Word Embeddings\n",
        "\n",
        "How can we solve this problem? That is, how could we actually encode\n",
        "semantic similarity in words? Maybe we think up some semantic\n",
        "attributes. For example, we see that both mathematicians and physicists\n",
        "can run, so maybe we give these words a high score for the \"is able to\n",
        "run\" semantic attribute. Think of some other attributes, and imagine\n",
        "what you might score some common words on those attributes.\n",
        "\n",
        "If each attribute is a dimension, then we might give each word a vector,\n",
        "like this:\n",
        "\n",
        "\\begin{align}q_\\text{mathematician} = \\left[ \\overbrace{2.3}^\\text{can run},\n",
        "   \\overbrace{9.4}^\\text{likes coffee}, \\overbrace{-5.5}^\\text{majored in Physics}, \\dots \\right]\\end{align}\n",
        "\n",
        "\\begin{align}q_\\text{physicist} = \\left[ \\overbrace{2.5}^\\text{can run},\n",
        "   \\overbrace{9.1}^\\text{likes coffee}, \\overbrace{6.4}^\\text{majored in Physics}, \\dots \\right]\\end{align}\n",
        "\n",
        "Then we can get a measure of similarity between these words by doing:\n",
        "\n",
        "\\begin{align}\\text{Similarity}(\\text{physicist}, \\text{mathematician}) = q_\\text{physicist} \\cdot q_\\text{mathematician}\\end{align}\n",
        "\n",
        "Although it is more common to normalize by the lengths:\n",
        "\n",
        "\\begin{align}\\text{Similarity}(\\text{physicist}, \\text{mathematician}) = \\frac{q_\\text{physicist} \\cdot q_\\text{mathematician}}\n",
        "   {\\| q_\\text{physicist} \\| \\| q_\\text{mathematician} \\|} = \\cos (\\phi)\\end{align}\n",
        "\n",
        "Where $\\phi$ is the angle between the two vectors. That way,\n",
        "extremely similar words (words whose embeddings point in the same\n",
        "direction) will have similarity 1. Extremely dissimilar words should\n",
        "have similarity -1.\n",
        "\n",
        "\n",
        "You can think of the sparse one-hot vectors from the beginning of this\n",
        "section as a special case of these new vectors we have defined, where\n",
        "each word basically has similarity 0, and we gave each word some unique\n",
        "semantic attribute. These new vectors are *dense*, which is to say their\n",
        "entries are (typically) non-zero.\n",
        "\n",
        "But these new vectors are a big pain: you could think of thousands of\n",
        "different semantic attributes that might be relevant to determining\n",
        "similarity, and how on earth would you set the values of the different\n",
        "attributes? Central to the idea of deep learning is that the neural\n",
        "network learns representations of the features, rather than requiring\n",
        "the programmer to design them herself. So why not just let the word\n",
        "embeddings be parameters in our model, and then be updated during\n",
        "training? This is exactly what we will do. We will have some *latent\n",
        "semantic attributes* that the network can, in principle, learn. Note\n",
        "that the word embeddings will probably not be interpretable. That is,\n",
        "although with our hand-crafted vectors above we can see that\n",
        "mathematicians and physicists are similar in that they both like coffee,\n",
        "if we allow a neural network to learn the embeddings and see that both\n",
        "mathematicians and physicists have a large value in the second\n",
        "dimension, it is not clear what that means. They are similar in some\n",
        "latent semantic dimension, but this probably has no interpretation to\n",
        "us.\n",
        "\n",
        "\n",
        "In summary, **word embeddings are a representation of the *semantics* of\n",
        "a word, efficiently encoding semantic information that might be relevant\n",
        "to the task at hand**. You can embed other things too: part of speech\n",
        "tags, parse trees, anything! The idea of feature embeddings is central\n",
        "to the field.\n",
        "\n",
        "\n",
        "Word Embeddings in Pytorch\n",
        "\n",
        "\n",
        "Before we get to a worked example and an exercise, a few quick notes\n",
        "about how to use embeddings in Pytorch and in deep learning programming\n",
        "in general. Similar to how we defined a unique index for each word when\n",
        "making one-hot vectors, we also need to define an index for each word\n",
        "when using embeddings. These will be keys into a lookup table. That is,\n",
        "embeddings are stored as a $|V| \\times D$ matrix, where $D$\n",
        "is the dimensionality of the embeddings, such that the word assigned\n",
        "index $i$ has its embedding stored in the $i$'th row of the\n",
        "matrix. In all of my code, the mapping from words to indices is a\n",
        "dictionary named word\\_to\\_ix.\n",
        "\n",
        "The module that allows you to use embeddings is torch.nn.Embedding,\n",
        "which takes two arguments: the vocabulary size, and the dimensionality\n",
        "of the embeddings.\n",
        "\n",
        "To index into this table, you must use torch.LongTensor (since the\n",
        "indices are integers, not floats).\n",
        "\n",
        "\n"
      ]
    },
    {
      "cell_type": "markdown",
      "metadata": {
        "id": "sEbWQAxb7JLr"
      },
      "source": [
        "# Word Embedding Process"
      ]
    },
    {
      "cell_type": "code",
      "metadata": {
        "id": "bpSd_rWuvTOT",
        "colab": {
          "base_uri": "https://localhost:8080/"
        },
        "outputId": "6b75c4cc-2fed-4fd5-f018-d0dd8c3c8c33"
      },
      "source": [
        "# Author: Robert Guthrie\n",
        "\n",
        "import torch\n",
        "import torch.nn as nn\n",
        "import torch.nn.functional as F\n",
        "import torch.optim as optim\n",
        "\n",
        "torch.manual_seed(1)"
      ],
      "execution_count": null,
      "outputs": [
        {
          "output_type": "execute_result",
          "data": {
            "text/plain": [
              "<torch._C.Generator at 0x7feb4e47eb70>"
            ]
          },
          "metadata": {
            "tags": []
          },
          "execution_count": 2
        }
      ]
    },
    {
      "cell_type": "code",
      "metadata": {
        "id": "P_yYRRsFvTOT",
        "colab": {
          "base_uri": "https://localhost:8080/"
        },
        "outputId": "7169f74a-1bdb-43c8-a118-5081e60840d4"
      },
      "source": [
        "word_to_ix = {\"hello\": 0, \"world\": 1}\n",
        "#embeds = nn.Embedding(2, 5)  # 2 words in vocab, 5 dimensional embeddings\n",
        "embeds = nn.Embedding(3, 4)  # 2 words in vocab, 5 dimensional embeddings\n",
        "lookup_tensor = torch.tensor([i for i in word_to_ix.values()], dtype=torch.long)\n",
        "hello_embed = embeds(lookup_tensor)\n",
        "print(hello_embed)"
      ],
      "execution_count": null,
      "outputs": [
        {
          "output_type": "stream",
          "text": [
            "tensor([[ 0.6614,  0.2669,  0.0617,  0.6213],\n",
            "        [-0.4519, -0.1661, -1.5228,  0.3817]], grad_fn=<EmbeddingBackward>)\n"
          ],
          "name": "stdout"
        }
      ]
    },
    {
      "cell_type": "markdown",
      "metadata": {
        "id": "VoppTIpYvTOU"
      },
      "source": [
        "# An Example: N-Gram Language Modeling\n",
        "\n",
        "Recall that in an n-gram language model, given a sequence of words\n",
        "$w$, we want to compute\n",
        "\n",
        "\\begin{align}P(w_i | w_{i-1}, w_{i-2}, \\dots, w_{i-n+1} )\\end{align}\n",
        "\n",
        "Where $w_i$ is the ith word of the sequence.\n",
        "\n",
        "In this example, we will compute the loss function on some training\n",
        "examples and update the parameters with backpropagation.\n",
        "\n",
        "\n"
      ]
    },
    {
      "cell_type": "code",
      "metadata": {
        "id": "P4X7l_IRvTOU",
        "colab": {
          "base_uri": "https://localhost:8080/"
        },
        "outputId": "54fe05cf-910a-4de8-f20e-ce8c5c4e62d7"
      },
      "source": [
        "\n",
        "# We will use Shakespeare Sonnet 2\n",
        "test_sentence = \"\"\"When forty winters shall besiege thy brow,\n",
        "And dig deep trenches in thy beauty's field,\n",
        "Thy youth's proud livery so gazed on now,\n",
        "Will be a totter'd weed of small worth held:\n",
        "Then being asked, where all thy beauty lies,\n",
        "Where all the treasure of thy lusty days;\n",
        "To say, within thine own deep sunken eyes,\n",
        "Were an all-eating shame, and thriftless praise.\n",
        "How much more praise deserv'd thy beauty's use,\n",
        "If thou couldst answer 'This fair child of mine\n",
        "Shall sum my count, and make my old excuse,'\n",
        "Proving his beauty by succession thine!\n",
        "This were to be new made when thou art old,\n",
        "And see thy blood warm when thou feel'st it cold.\"\"\".split()\n",
        "\n",
        "test_sentence,len(test_sentence),type(test_sentence[0])\n",
        "\n"
      ],
      "execution_count": null,
      "outputs": [
        {
          "output_type": "execute_result",
          "data": {
            "text/plain": [
              "(['When',\n",
              "  'forty',\n",
              "  'winters',\n",
              "  'shall',\n",
              "  'besiege',\n",
              "  'thy',\n",
              "  'brow,',\n",
              "  'And',\n",
              "  'dig',\n",
              "  'deep',\n",
              "  'trenches',\n",
              "  'in',\n",
              "  'thy',\n",
              "  \"beauty's\",\n",
              "  'field,',\n",
              "  'Thy',\n",
              "  \"youth's\",\n",
              "  'proud',\n",
              "  'livery',\n",
              "  'so',\n",
              "  'gazed',\n",
              "  'on',\n",
              "  'now,',\n",
              "  'Will',\n",
              "  'be',\n",
              "  'a',\n",
              "  \"totter'd\",\n",
              "  'weed',\n",
              "  'of',\n",
              "  'small',\n",
              "  'worth',\n",
              "  'held:',\n",
              "  'Then',\n",
              "  'being',\n",
              "  'asked,',\n",
              "  'where',\n",
              "  'all',\n",
              "  'thy',\n",
              "  'beauty',\n",
              "  'lies,',\n",
              "  'Where',\n",
              "  'all',\n",
              "  'the',\n",
              "  'treasure',\n",
              "  'of',\n",
              "  'thy',\n",
              "  'lusty',\n",
              "  'days;',\n",
              "  'To',\n",
              "  'say,',\n",
              "  'within',\n",
              "  'thine',\n",
              "  'own',\n",
              "  'deep',\n",
              "  'sunken',\n",
              "  'eyes,',\n",
              "  'Were',\n",
              "  'an',\n",
              "  'all-eating',\n",
              "  'shame,',\n",
              "  'and',\n",
              "  'thriftless',\n",
              "  'praise.',\n",
              "  'How',\n",
              "  'much',\n",
              "  'more',\n",
              "  'praise',\n",
              "  \"deserv'd\",\n",
              "  'thy',\n",
              "  \"beauty's\",\n",
              "  'use,',\n",
              "  'If',\n",
              "  'thou',\n",
              "  'couldst',\n",
              "  'answer',\n",
              "  \"'This\",\n",
              "  'fair',\n",
              "  'child',\n",
              "  'of',\n",
              "  'mine',\n",
              "  'Shall',\n",
              "  'sum',\n",
              "  'my',\n",
              "  'count,',\n",
              "  'and',\n",
              "  'make',\n",
              "  'my',\n",
              "  'old',\n",
              "  \"excuse,'\",\n",
              "  'Proving',\n",
              "  'his',\n",
              "  'beauty',\n",
              "  'by',\n",
              "  'succession',\n",
              "  'thine!',\n",
              "  'This',\n",
              "  'were',\n",
              "  'to',\n",
              "  'be',\n",
              "  'new',\n",
              "  'made',\n",
              "  'when',\n",
              "  'thou',\n",
              "  'art',\n",
              "  'old,',\n",
              "  'And',\n",
              "  'see',\n",
              "  'thy',\n",
              "  'blood',\n",
              "  'warm',\n",
              "  'when',\n",
              "  'thou',\n",
              "  \"feel'st\",\n",
              "  'it',\n",
              "  'cold.'],\n",
              " 115,\n",
              " str)"
            ]
          },
          "metadata": {
            "tags": []
          },
          "execution_count": 4
        }
      ]
    },
    {
      "cell_type": "code",
      "metadata": {
        "colab": {
          "base_uri": "https://localhost:8080/"
        },
        "id": "Wy7hg9EVzzP5",
        "outputId": "d7d43840-cd63-47d0-869b-2498215d2476"
      },
      "source": [
        "# we should tokenize the input, but we will ignore that for now\r\n",
        "# build a list of tuples.  Each tuple is ([ word_i-2, word_i-1 ], target word)\r\n",
        "trigrams = [([test_sentence[i], test_sentence[i + 1]], test_sentence[i + 2])\r\n",
        "            for i in range(len(test_sentence) - 2)]\r\n",
        "# print the first 3, just so you can see what they look like\r\n",
        "print(type(trigrams),trigrams[:3])\r\n",
        "\r\n"
      ],
      "execution_count": null,
      "outputs": [
        {
          "output_type": "stream",
          "text": [
            "<class 'list'> [(['When', 'forty'], 'winters'), (['forty', 'winters'], 'shall'), (['winters', 'shall'], 'besiege')]\n"
          ],
          "name": "stdout"
        }
      ]
    },
    {
      "cell_type": "code",
      "metadata": {
        "colab": {
          "base_uri": "https://localhost:8080/"
        },
        "id": "UemWj5_Kz9IP",
        "outputId": "8110d6f0-9ae8-4694-e47b-2798486586e4"
      },
      "source": [
        "vocab = set(test_sentence) #이게 리얼 Corpus 구먼\r\n",
        "#for word in vocab:\r\n",
        "#  print(word)\r\n",
        "word_to_ix = {word: i for i, word in enumerate(vocab)} #순서는 맨처음 torch.manual(1)에 의해서 정해짐\r\n",
        "len(vocab)"
      ],
      "execution_count": null,
      "outputs": [
        {
          "output_type": "execute_result",
          "data": {
            "text/plain": [
              "97"
            ]
          },
          "metadata": {
            "tags": []
          },
          "execution_count": 6
        }
      ]
    },
    {
      "cell_type": "code",
      "metadata": {
        "id": "k2F9S64r0UQ6"
      },
      "source": [
        "class NGramLanguageModeler(nn.Module):\r\n",
        "\r\n",
        "    def __init__(self, vocab_size, embedding_dim, context_size):\r\n",
        "        super(NGramLanguageModeler, self).__init__()\r\n",
        "        self.embeddings = nn.Embedding(vocab_size, embedding_dim) #이것이 포인트여: 자동 임베딩\r\n",
        "        self.linear1 = nn.Linear(context_size * embedding_dim, 128)\r\n",
        "        self.linear2 = nn.Linear(128, vocab_size)\r\n",
        "\r\n",
        "    def forward(self, inputs):\r\n",
        "        embeds = self.embeddings(inputs).view((1, -1)) # context를 옆으로 붙이는거\r\n",
        "        #print(embeds.shape)\r\n",
        "        out = F.relu(self.linear1(embeds))\r\n",
        "        out = self.linear2(out)\r\n",
        "        log_probs = F.log_softmax(out, dim=1)\r\n",
        "        return log_probs\r\n"
      ],
      "execution_count": null,
      "outputs": []
    },
    {
      "cell_type": "code",
      "metadata": {
        "colab": {
          "base_uri": "https://localhost:8080/"
        },
        "id": "fMVcKbBs1T16",
        "outputId": "7bbf451a-f15e-4b98-96a5-6d47a835ad1e"
      },
      "source": [
        "CONTEXT_SIZE = 2\r\n",
        "EMBEDDING_DIM = 10\r\n",
        "VOCAB_SIZE = len(vocab)\r\n",
        "\r\n",
        "losses,accuracy = [],[]\r\n",
        "loss_function = nn.NLLLoss()\r\n",
        "model = NGramLanguageModeler(VOCAB_SIZE, EMBEDDING_DIM, CONTEXT_SIZE)\r\n",
        "optimizer = optim.SGD(model.parameters(), lr=0.001,momentum=0.9)\r\n",
        "\r\n",
        "for epoch in range(100):\r\n",
        "    total_loss = 0\r\n",
        "    total_acc = 0\r\n",
        "    for context, target in trigrams:\r\n",
        "\r\n",
        "        # Step 1. Prepare the inputs to be passed to the model (i.e, turn the words\r\n",
        "        # into integer indices and wrap them in tensors)\r\n",
        "        context_idxs = torch.tensor([word_to_ix[w] for w in context], dtype=torch.long) #since it's trigram, there are 2 words in context\r\n",
        "\r\n",
        "        # Step 2. Recall that torch *accumulates* gradients. Before passing in a\r\n",
        "        # new instance, you need to zero out the gradients from the old\r\n",
        "        # instance\r\n",
        "        model.zero_grad()\r\n",
        "        running_corrects=0\r\n",
        "        # Step 3. Run the forward pass, getting log probabilities over next\r\n",
        "        # words\r\n",
        "        log_probs = model(context_idxs)\r\n",
        "        _, preds = torch.max(log_probs, 1)\r\n",
        "        running_corrects += torch.sum(preds == word_to_ix[target])\r\n",
        "        # Step 4. Compute your loss function. (Again, Torch wants the target\r\n",
        "        # word wrapped in a tensor)\r\n",
        "        loss = loss_function(log_probs, torch.tensor([word_to_ix[target]], dtype=torch.long))\r\n",
        "\r\n",
        "        # Step 5. Do the backward pass and update the gradient\r\n",
        "        loss.backward()\r\n",
        "        optimizer.step()\r\n",
        "\r\n",
        "        # Get the Python number from a 1-element Tensor by calling tensor.item()\r\n",
        "        total_loss += loss.item()\r\n",
        "        total_acc += running_corrects \r\n",
        "    \r\n",
        "    avg_loss= total_loss/len(trigrams)\r\n",
        "    avg_acc = total_acc / len(trigrams)\r\n",
        "    \r\n",
        "    print(f'Epoch {epoch+1}::Accuracy={avg_acc}, loss={avg_loss}')\r\n",
        "    losses.append(avg_loss)\r\n",
        "    accuracy.append(avg_acc)\r\n",
        "\r\n",
        "#print(losses)  # The loss decreased every iteration over the training data!"
      ],
      "execution_count": null,
      "outputs": [
        {
          "output_type": "stream",
          "text": [
            "Epoch 1::Accuracy=0.017699114978313446, loss=4.65038985699679\n",
            "Epoch 2::Accuracy=0.08849557489156723, loss=4.450681279190873\n",
            "Epoch 3::Accuracy=0.1150442510843277, loss=4.260537181280355\n",
            "Epoch 4::Accuracy=0.14159291982650757, loss=4.074205592670272\n",
            "Epoch 5::Accuracy=0.16814158856868744, loss=3.887594039461254\n",
            "Epoch 6::Accuracy=0.2300885021686554, loss=3.6970807493260476\n",
            "Epoch 7::Accuracy=0.3008849620819092, loss=3.500292313837372\n",
            "Epoch 8::Accuracy=0.36283186078071594, loss=3.2956222659718675\n",
            "Epoch 9::Accuracy=0.45132744312286377, loss=3.0821795236747875\n",
            "Epoch 10::Accuracy=0.47787609696388245, loss=2.860807236580722\n",
            "Epoch 11::Accuracy=0.6017699241638184, loss=2.6329904275130382\n",
            "Epoch 12::Accuracy=0.6725663542747498, loss=2.4013253479404786\n",
            "Epoch 13::Accuracy=0.7079645991325378, loss=2.16870086145612\n",
            "Epoch 14::Accuracy=0.8230088353157043, loss=1.9392752708059497\n",
            "Epoch 15::Accuracy=0.8672566413879395, loss=1.7166001525072925\n",
            "Epoch 16::Accuracy=0.9026548862457275, loss=1.5048416214706624\n",
            "Epoch 17::Accuracy=0.9292035102844238, loss=1.3077238779679863\n",
            "Epoch 18::Accuracy=0.9380530714988708, loss=1.128103917942638\n",
            "Epoch 19::Accuracy=0.9557521939277649, loss=0.9685231285680712\n",
            "Epoch 20::Accuracy=0.9646017551422119, loss=0.8294701686343261\n",
            "Epoch 21::Accuracy=0.9646017551422119, loss=0.7110380137388685\n",
            "Epoch 22::Accuracy=0.9646017551422119, loss=0.6115898606655872\n",
            "Epoch 23::Accuracy=0.9646017551422119, loss=0.529176729640602\n",
            "Epoch 24::Accuracy=0.9646017551422119, loss=0.46155698056769584\n",
            "Epoch 25::Accuracy=0.9646017551422119, loss=0.4062428566075004\n",
            "Epoch 26::Accuracy=0.9646017551422119, loss=0.36095220786807813\n",
            "Epoch 27::Accuracy=0.9646017551422119, loss=0.32376975117795237\n",
            "Epoch 28::Accuracy=0.9646017551422119, loss=0.2930232962939592\n",
            "Epoch 29::Accuracy=0.9646017551422119, loss=0.2674543767903758\n",
            "Epoch 30::Accuracy=0.9646017551422119, loss=0.2458992613957519\n",
            "Epoch 31::Accuracy=0.9646017551422119, loss=0.22768206779012637\n",
            "Epoch 32::Accuracy=0.9646017551422119, loss=0.21210086810509715\n",
            "Epoch 33::Accuracy=0.9646017551422119, loss=0.19870018164536593\n",
            "Epoch 34::Accuracy=0.9646017551422119, loss=0.18704164707291443\n",
            "Epoch 35::Accuracy=0.9646017551422119, loss=0.17687770345174106\n",
            "Epoch 36::Accuracy=0.9646017551422119, loss=0.16792837813892195\n",
            "Epoch 37::Accuracy=0.9646017551422119, loss=0.1600146625949218\n",
            "Epoch 38::Accuracy=0.9646017551422119, loss=0.15297194975799164\n",
            "Epoch 39::Accuracy=0.9646017551422119, loss=0.14666427058719955\n",
            "Epoch 40::Accuracy=0.9646017551422119, loss=0.1410057921523014\n",
            "Epoch 41::Accuracy=0.9646017551422119, loss=0.13587454141043456\n",
            "Epoch 42::Accuracy=0.9646017551422119, loss=0.13125003745729943\n",
            "Epoch 43::Accuracy=0.9646017551422119, loss=0.12701437246482983\n",
            "Epoch 44::Accuracy=0.9646017551422119, loss=0.12316424641923039\n",
            "Epoch 45::Accuracy=0.9646017551422119, loss=0.11961749369130198\n",
            "Epoch 46::Accuracy=0.9646017551422119, loss=0.11637019486356098\n",
            "Epoch 47::Accuracy=0.9646017551422119, loss=0.11335755948933353\n",
            "Epoch 48::Accuracy=0.9646017551422119, loss=0.11057512425875242\n",
            "Epoch 49::Accuracy=0.9646017551422119, loss=0.10799829228327865\n",
            "Epoch 50::Accuracy=0.9646017551422119, loss=0.10559921744650444\n",
            "Epoch 51::Accuracy=0.9646017551422119, loss=0.10335160745719893\n",
            "Epoch 52::Accuracy=0.9646017551422119, loss=0.10125793142458506\n",
            "Epoch 53::Accuracy=0.9646017551422119, loss=0.09929404953346316\n",
            "Epoch 54::Accuracy=0.9646017551422119, loss=0.09746456724814082\n",
            "Epoch 55::Accuracy=0.9646017551422119, loss=0.09571561514012582\n",
            "Epoch 56::Accuracy=0.9646017551422119, loss=0.09407804639334172\n",
            "Epoch 57::Accuracy=0.9646017551422119, loss=0.09254534636517014\n",
            "Epoch 58::Accuracy=0.9646017551422119, loss=0.09107303337515456\n",
            "Epoch 59::Accuracy=0.9646017551422119, loss=0.089690554145295\n",
            "Epoch 60::Accuracy=0.9646017551422119, loss=0.08838046764114262\n",
            "Epoch 61::Accuracy=0.9646017551422119, loss=0.08714218691518877\n",
            "Epoch 62::Accuracy=0.9646017551422119, loss=0.08594474034894885\n",
            "Epoch 63::Accuracy=0.9646017551422119, loss=0.08481715783575731\n",
            "Epoch 64::Accuracy=0.9646017551422119, loss=0.08375096440611951\n",
            "Epoch 65::Accuracy=0.9646017551422119, loss=0.08270567009406807\n",
            "Epoch 66::Accuracy=0.9646017551422119, loss=0.0817236795081897\n",
            "Epoch 67::Accuracy=0.9646017551422119, loss=0.08079030812281159\n",
            "Epoch 68::Accuracy=0.9646017551422119, loss=0.07987389886603419\n",
            "Epoch 69::Accuracy=0.9646017551422119, loss=0.079006972013915\n",
            "Epoch 70::Accuracy=0.9646017551422119, loss=0.07818274598865382\n",
            "Epoch 71::Accuracy=0.9646017551422119, loss=0.07736870836037978\n",
            "Epoch 72::Accuracy=0.9646017551422119, loss=0.07660326433359785\n",
            "Epoch 73::Accuracy=0.9646017551422119, loss=0.07586939509265718\n",
            "Epoch 74::Accuracy=0.9646017551422119, loss=0.07514251754577972\n",
            "Epoch 75::Accuracy=0.9646017551422119, loss=0.07445218488244357\n",
            "Epoch 76::Accuracy=0.9646017551422119, loss=0.07379680357675637\n",
            "Epoch 77::Accuracy=0.9646017551422119, loss=0.07314104146727946\n",
            "Epoch 78::Accuracy=0.9646017551422119, loss=0.07252124650815947\n",
            "Epoch 79::Accuracy=0.9646017551422119, loss=0.07192571312848446\n",
            "Epoch 80::Accuracy=0.9646017551422119, loss=0.07133220885344575\n",
            "Epoch 81::Accuracy=0.9646017551422119, loss=0.07076706328486974\n",
            "Epoch 82::Accuracy=0.9646017551422119, loss=0.07022654283297274\n",
            "Epoch 83::Accuracy=0.9646017551422119, loss=0.06969404069756248\n",
            "Epoch 84::Accuracy=0.9646017551422119, loss=0.06916348146587874\n",
            "Epoch 85::Accuracy=0.9646017551422119, loss=0.06866303861009336\n",
            "Epoch 86::Accuracy=0.9646017551422119, loss=0.0681724800785954\n",
            "Epoch 87::Accuracy=0.9646017551422119, loss=0.06772061611270219\n",
            "Epoch 88::Accuracy=0.9646017551422119, loss=0.06724581970478845\n",
            "Epoch 89::Accuracy=0.9646017551422119, loss=0.06679560793810978\n",
            "Epoch 90::Accuracy=0.9646017551422119, loss=0.06636750409626856\n",
            "Epoch 91::Accuracy=0.9646017551422119, loss=0.06592921344810619\n",
            "Epoch 92::Accuracy=0.9646017551422119, loss=0.06551264631932815\n",
            "Epoch 93::Accuracy=0.9646017551422119, loss=0.0650967341163649\n",
            "Epoch 94::Accuracy=0.9646017551422119, loss=0.06470244409994477\n",
            "Epoch 95::Accuracy=0.9646017551422119, loss=0.06432436484909426\n",
            "Epoch 96::Accuracy=0.9646017551422119, loss=0.06393595301109341\n",
            "Epoch 97::Accuracy=0.9646017551422119, loss=0.06356701980946602\n",
            "Epoch 98::Accuracy=0.9646017551422119, loss=0.06321638334641415\n",
            "Epoch 99::Accuracy=0.9646017551422119, loss=0.06285325311684767\n",
            "Epoch 100::Accuracy=0.9646017551422119, loss=0.06250875366159377\n"
          ],
          "name": "stdout"
        }
      ]
    },
    {
      "cell_type": "code",
      "metadata": {
        "colab": {
          "base_uri": "https://localhost:8080/",
          "height": 573
        },
        "id": "3-FAepEm4Enr",
        "outputId": "48fb82f2-3812-4c4a-befd-124b50805cfc"
      },
      "source": [
        "import matplotlib as mpl\r\n",
        "import matplotlib.pyplot as plt\r\n",
        "plt.title('Accuracy',color='white')\r\n",
        "plt.plot(accuracy, 'g', label='acc')\r\n",
        "plt.xlabel('Epochs',color='white')\r\n",
        "plt.ylabel('Acc',color='white')\r\n",
        "plt.legend(loc='lower right')\r\n",
        "plt.xticks(color='white')\r\n",
        "plt.yticks(color='white')\r\n",
        "plt.show()\r\n",
        "\r\n",
        "plt.title('Loss',color='white')\r\n",
        "plt.plot(losses,'r',label='loss')\r\n",
        "plt.xlabel('Epochs',color='white')\r\n",
        "plt.ylabel('Loss',color='white')\r\n",
        "plt.legend()\r\n",
        "plt.xticks(color='white')\r\n",
        "plt.yticks(color='white')\r\n",
        "plt.show()"
      ],
      "execution_count": null,
      "outputs": [
        {
          "output_type": "display_data",
          "data": {
            "image/png": "[encoded data removed]",
            "text/plain": [
              "<Figure size 432x288 with 1 Axes>"
            ]
          },
          "metadata": {
            "tags": [],
            "needs_background": "dark"
          }
        },
        {
          "output_type": "display_data",
          "data": {
            "image/png": "[encoded data removed]",
            "text/plain": [
              "<Figure size 432x288 with 1 Axes>"
            ]
          },
          "metadata": {
            "tags": [],
            "needs_background": "dark"
          }
        }
      ]
    },
    {
      "cell_type": "markdown",
      "metadata": {
        "id": "o5vk30xBvTOV"
      },
      "source": [
        "# Exercise: Computing Word Embeddings: Continuous Bag-of-Words\n",
        "\n",
        "The Continuous Bag-of-Words model (CBOW) is frequently used in NLP deep\n",
        "learning. It is a model that tries to predict words given the context of\n",
        "a few words before and a few words after the target word. This is\n",
        "distinct from language modeling, since CBOW is not sequential and does\n",
        "not have to be probabilistic. Typcially, CBOW is used to quickly train\n",
        "word embeddings, and these embeddings are used to initialize the\n",
        "embeddings of some more complicated model. Usually, this is referred to\n",
        "as *pretraining embeddings*. It almost always helps performance a couple\n",
        "of percent.\n",
        "\n",
        "The CBOW model is as follows. Given a target word $w_i$ and an\n",
        "$N$ context window on each side, $w_{i-1}, \\dots, w_{i-N}$\n",
        "and $w_{i+1}, \\dots, w_{i+N}$, referring to all context words\n",
        "collectively as $C$, CBOW tries to minimize\n",
        "\n",
        "\\begin{align}-\\log p(w_i | C) = -\\log \\text{Softmax}(A(\\sum_{w \\in C} q_w) + b)\\end{align}\n",
        "\n",
        "where $q_w$ is the embedding for word $w$.\n",
        "\n",
        "Implement this model in Pytorch by filling in the class below. Some\n",
        "tips:\n",
        "\n",
        "* Think about which parameters you need to define.\n",
        "* Make sure you know what shape each operation expects. Use .view() if you need to\n",
        "  reshape.\n",
        "\n",
        "\n"
      ]
    },
    {
      "cell_type": "code",
      "metadata": {
        "id": "kqn7ZI6lvTOW",
        "colab": {
          "base_uri": "https://localhost:8080/"
        },
        "outputId": "dca4e184-4339-4f52-f279-61687b80dfbf"
      },
      "source": [
        "CONTEXT_SIZE = 2  # 2 words to the left, 2 to the right\n",
        "raw_text = \"\"\"We are about to study the idea of a computational process.\n",
        "Computational processes are abstract beings that inhabit computers.\n",
        "As they evolve, processes manipulate other abstract things called data.\n",
        "The evolution of a process is directed by a pattern of rules\n",
        "called a program. People create programs to direct processes. In effect,\n",
        "we conjure the spirits of the computer with our spells.\"\"\".split()\n",
        "\n",
        "# By deriving a set from `raw_text`, we deduplicate the array\n",
        "vocab = set(raw_text)\n",
        "vocab_size = len(vocab)\n",
        "\n",
        "type(raw_text),vocab,vocab_size"
      ],
      "execution_count": null,
      "outputs": [
        {
          "output_type": "execute_result",
          "data": {
            "text/plain": [
              "(list,\n",
              " {'As',\n",
              "  'Computational',\n",
              "  'In',\n",
              "  'People',\n",
              "  'The',\n",
              "  'We',\n",
              "  'a',\n",
              "  'about',\n",
              "  'abstract',\n",
              "  'are',\n",
              "  'beings',\n",
              "  'by',\n",
              "  'called',\n",
              "  'computational',\n",
              "  'computer',\n",
              "  'computers.',\n",
              "  'conjure',\n",
              "  'create',\n",
              "  'data.',\n",
              "  'direct',\n",
              "  'directed',\n",
              "  'effect,',\n",
              "  'evolution',\n",
              "  'evolve,',\n",
              "  'idea',\n",
              "  'inhabit',\n",
              "  'is',\n",
              "  'manipulate',\n",
              "  'of',\n",
              "  'other',\n",
              "  'our',\n",
              "  'pattern',\n",
              "  'process',\n",
              "  'process.',\n",
              "  'processes',\n",
              "  'processes.',\n",
              "  'program.',\n",
              "  'programs',\n",
              "  'rules',\n",
              "  'spells.',\n",
              "  'spirits',\n",
              "  'study',\n",
              "  'that',\n",
              "  'the',\n",
              "  'they',\n",
              "  'things',\n",
              "  'to',\n",
              "  'we',\n",
              "  'with'},\n",
              " 49)"
            ]
          },
          "metadata": {
            "tags": []
          },
          "execution_count": 3
        }
      ]
    },
    {
      "cell_type": "code",
      "metadata": {
        "colab": {
          "base_uri": "https://localhost:8080/"
        },
        "id": "sk6vu-2E-9Xe",
        "outputId": "9811f75f-f6d8-49f3-e7ff-d545ae225c15"
      },
      "source": [
        "a=[1,2,4,8,69]\r\n",
        "del a[3]\r\n",
        "print(a)\r\n",
        "\r\n",
        "list(range(CONTEXT_SIZE,-(CONTEXT_SIZE+1),-1))"
      ],
      "execution_count": null,
      "outputs": [
        {
          "output_type": "stream",
          "text": [
            "[1, 2, 4, 69]\n"
          ],
          "name": "stdout"
        },
        {
          "output_type": "execute_result",
          "data": {
            "text/plain": [
              "[2, 1, 0, -1, -2]"
            ]
          },
          "metadata": {
            "tags": []
          },
          "execution_count": 11
        }
      ]
    },
    {
      "cell_type": "code",
      "metadata": {
        "colab": {
          "base_uri": "https://localhost:8080/"
        },
        "id": "apGVlQa59_ic",
        "outputId": "004ee7d0-7d2a-4f9b-edcf-a34528e715ce"
      },
      "source": [
        "word_to_ix = {word: i for i, word in enumerate(vocab)}\r\n",
        "ix_to_word = {ix:word for ix, word in enumerate(vocab)}\r\n",
        "data = []\r\n",
        "for i in range(CONTEXT_SIZE, len(raw_text) - CONTEXT_SIZE):\r\n",
        "    #context = [raw_text[i - 2], raw_text[i - 1],\r\n",
        "    #           raw_text[i + 1], raw_text[i + 2]]\r\n",
        "\r\n",
        "    context= [raw_text[i-j] for j in range(CONTEXT_SIZE,-(CONTEXT_SIZE+1),-1) ]\r\n",
        "    del context[CONTEXT_SIZE]            \r\n",
        "    target = raw_text[i]\r\n",
        "    data.append((context, target))\r\n",
        "\r\n",
        "print(data[:5])\r\n",
        "print(len(vocab),len(word_to_ix),len(data))\r\n",
        "\r\n",
        "\r\n",
        "\r\n"
      ],
      "execution_count": null,
      "outputs": [
        {
          "output_type": "stream",
          "text": [
            "[(['We', 'are', 'to', 'study'], 'about'), (['are', 'about', 'study', 'the'], 'to'), (['about', 'to', 'the', 'idea'], 'study'), (['to', 'study', 'idea', 'of'], 'the'), (['study', 'the', 'of', 'a'], 'idea')]\n",
            "49 49 58\n"
          ],
          "name": "stdout"
        }
      ]
    },
    {
      "cell_type": "code",
      "metadata": {
        "colab": {
          "base_uri": "https://localhost:8080/"
        },
        "id": "quMnNP0LOyM-",
        "outputId": "aae25671-125d-4fcd-a43d-ed415dded53a"
      },
      "source": [
        "# tensor를 행,열을 바꿔줌\r\n",
        "a=torch.tensor([[1,2,3],[4,5,6]])\r\n",
        "torch.rot90(a,-1,[0,1])"
      ],
      "execution_count": null,
      "outputs": [
        {
          "output_type": "execute_result",
          "data": {
            "text/plain": [
              "tensor([[4, 1],\n",
              "        [5, 2],\n",
              "        [6, 3]])"
            ]
          },
          "metadata": {
            "tags": []
          },
          "execution_count": 13
        }
      ]
    },
    {
      "cell_type": "code",
      "metadata": {
        "id": "yxQIzZs6_IXl"
      },
      "source": [
        "class CBOW(torch.nn.Module):\r\n",
        "    def __init__(self, vocab_size, embedding_dim):\r\n",
        "        super(CBOW, self).__init__()\r\n",
        "\r\n",
        "        self.embeddings = nn.Embedding(vocab_size, embedding_dim)\r\n",
        "        self.linear1 = nn.Linear(embedding_dim, 128)\r\n",
        "        self.activation1 = nn.ReLU()\r\n",
        "        \r\n",
        "        #out: 1 x vocab_size\r\n",
        "        self.linear2 = nn.Linear(128, vocab_size)\r\n",
        "        self.activation2 = nn.LogSoftmax(dim = -1)\r\n",
        "        \r\n",
        "\r\n",
        "    def forward(self, inputs):\r\n",
        "        embeds = sum(self.embeddings(inputs)).view(1,-1)\r\n",
        "        out = self.linear1(embeds)\r\n",
        "        out = self.activation1(out)\r\n",
        "        out = self.linear2(out)\r\n",
        "        out = self.activation2(out)\r\n",
        "        return out\r\n",
        "\r\n",
        "    def get_word_emdedding(self, word):\r\n",
        "        word = torch.tensor([word_to_ix[word]])\r\n",
        "        return self.embeddings(word).view(1,-1)\r\n",
        "\r\n",
        "\r\n",
        "\r\n",
        "def make_context_vector(context, word_to_ix):\r\n",
        "    idxs = [word_to_ix[w] for w in context]\r\n",
        "    return torch.tensor(idxs, dtype=torch.long)\r\n",
        "\r\n",
        "\r\n",
        "input=make_context_vector(data[0][0], word_to_ix)  # example\r\n",
        "#model.get_word_emdedding(data[0][0])"
      ],
      "execution_count": null,
      "outputs": []
    },
    {
      "cell_type": "code",
      "metadata": {
        "colab": {
          "base_uri": "https://localhost:8080/"
        },
        "id": "lNxtnTQvDVWo",
        "outputId": "23ece06f-ab33-423c-f83b-c027f96ed68b"
      },
      "source": [
        "embeddings= nn.Embedding(49, 10) # 49=vocabsize, 10=embedding dimension\r\n",
        "input=torch.tensor([ 8, 34, 40, 16]) # example\r\n",
        "\r\n",
        "print(input)\r\n",
        "print(embeddings)\r\n",
        "print(embeddings(input))\r\n",
        "print(embeddings(input).shape)\r\n",
        "\r\n",
        "\r\n"
      ],
      "execution_count": null,
      "outputs": [
        {
          "output_type": "stream",
          "text": [
            "tensor([ 8, 34, 40, 16])\n",
            "Embedding(49, 10)\n",
            "tensor([[ 0.7464,  0.2328,  0.0054,  0.1899, -0.2596, -1.7663,  0.8808, -1.4067,\n",
            "         -0.3111,  0.3290],\n",
            "        [ 0.1317,  0.4890, -1.2848, -0.3952, -0.3694, -0.3983,  0.4598,  0.0107,\n",
            "         -0.0460,  0.5487],\n",
            "        [ 1.0015, -0.9535, -0.1564,  0.2379, -0.0025,  0.0109,  1.1535,  0.2307,\n",
            "         -0.9663, -0.2421],\n",
            "        [ 0.3373,  1.1636, -0.3324,  0.5396,  0.5268,  0.5086,  0.1116, -1.5343,\n",
            "         -0.2941, -0.0317]], grad_fn=<EmbeddingBackward>)\n",
            "torch.Size([4, 10])\n"
          ],
          "name": "stdout"
        }
      ]
    },
    {
      "cell_type": "code",
      "metadata": {
        "colab": {
          "base_uri": "https://localhost:8080/"
        },
        "id": "GXOgfgA_S_je",
        "outputId": "269f31dc-1828-4992-b47d-61717215d7d8"
      },
      "source": [
        "vocab_size=len(vocab)\r\n",
        "embedding_dim= 10\r\n",
        "print(vocab_size,embedding_dim)\r\n",
        "input=make_context_vector(data[0][0], word_to_ix)  # example\r\n",
        "print(input)\r\n",
        "embeddings= nn.Embedding(vocab_size, embedding_dim)\r\n",
        "embeddings.weight[0],len(embeddings.weight[0])"
      ],
      "execution_count": null,
      "outputs": [
        {
          "output_type": "stream",
          "text": [
            "49 10\n",
            "tensor([ 8, 34, 40, 16])\n"
          ],
          "name": "stdout"
        },
        {
          "output_type": "execute_result",
          "data": {
            "text/plain": [
              "(tensor([-1.5256, -0.7502, -0.6540, -1.6095, -0.1002, -0.6092, -0.9798, -1.6091,\n",
              "         -0.7121,  0.3037], grad_fn=<SelectBackward>), 10)"
            ]
          },
          "metadata": {
            "tags": []
          },
          "execution_count": 6
        }
      ]
    },
    {
      "cell_type": "code",
      "metadata": {
        "colab": {
          "base_uri": "https://localhost:8080/"
        },
        "id": "k33KvCEOVB8j",
        "outputId": "687046da-65c0-4cf3-8a08-80a0d9a1612c"
      },
      "source": [
        "embdedding_size = 10\r\n",
        "vocab_size = len(vocab)\r\n",
        "\r\n",
        "losses,accuracy = [],[]\r\n",
        "loss_function = nn.NLLLoss()\r\n",
        "model = CBOW(vocab_size, embedding_dim)\r\n",
        "optimizer = optim.SGD(model.parameters(), lr=0.001,momentum=0.9)\r\n",
        "\r\n",
        "\r\n",
        "for epoch in range(100):\r\n",
        "    total_loss = 0\r\n",
        "    total_acc = 0\r\n",
        "    \r\n",
        "    for context, target in data:\r\n",
        "\r\n",
        "        # Step 1. Prepare the inputs to be passed to the model (i.e, turn the words\r\n",
        "        # into integer indices and wrap them in tensors)\r\n",
        "        context_idxs = make_context_vector(context,word_to_ix) # size2*WindowSize의 list 출력\r\n",
        "\r\n",
        "        # Step 2. Recall that torch *accumulates* gradients. Before passing in a\r\n",
        "        # new instance, you need to zero out the gradients from the old\r\n",
        "        # instance\r\n",
        "        optimizer.zero_grad()\r\n",
        "        acc=0\r\n",
        "        # Step 3. Run the forward pass, getting log probabilities over next\r\n",
        "        # words\r\n",
        "        log_probs = model(context_idxs)\r\n",
        "        \r\n",
        "        #tensor([[-2.0541e+01, -1.7539e+01, -6.4471e+00, -1.7899e+01, -7.4570e+00,\r\n",
        "        #        ,,,\r\n",
        "        #        -1.5753e+01, -1.8592e+01, -1.3573e+01, -1.9317e+01]], grad_fn=<LogSoftmaxBackward>)\r\n",
        "        \r\n",
        "        _, preds = torch.max(log_probs, 1)\r\n",
        "        # _,preds = tensor([-0.0114], grad_fn=<MaxBackward0>),tensor([5]))\r\n",
        "        acc += torch.sum(preds == word_to_ix[target])\r\n",
        "        # Step 4. Compute your loss function. (Again, Torch wants the target\r\n",
        "        # word wrapped in a tensor)\r\n",
        "        loss = loss_function(log_probs, torch.tensor([word_to_ix[target]], dtype=torch.long))\r\n",
        "\r\n",
        "        # Step 5. Do the backward pass and update the gradient\r\n",
        "        loss.backward()\r\n",
        "        optimizer.step()\r\n",
        "\r\n",
        "        # Get the Python number from a 1-element Tensor by calling tensor.item()\r\n",
        "        total_loss += loss.item()\r\n",
        "        total_acc += acc \r\n",
        "    \r\n",
        "    avg_loss= total_loss/len(data)\r\n",
        "    avg_acc = total_acc / len(data)\r\n",
        "    \r\n",
        "    print(f'Epoch {epoch+1}::Accuracy={avg_acc}, loss={avg_loss}')\r\n",
        "    losses.append(avg_loss)\r\n",
        "    accuracy.append(avg_acc)\r\n",
        "\r\n",
        "#print(losses)  # The loss decreased every iteration over the training data!"
      ],
      "execution_count": null,
      "outputs": [
        {
          "output_type": "stream",
          "text": [
            "Epoch 1::Accuracy=0.017241379246115685, loss=4.078189578549615\n",
            "Epoch 2::Accuracy=0.08620689809322357, loss=3.443150618980671\n",
            "Epoch 3::Accuracy=0.2068965584039688, loss=2.9676163566523583\n",
            "Epoch 4::Accuracy=0.36206895112991333, loss=2.5760613762099167\n",
            "Epoch 5::Accuracy=0.43103447556495667, loss=2.239420740768827\n",
            "Epoch 6::Accuracy=0.5862069129943848, loss=1.9427204275953358\n",
            "Epoch 7::Accuracy=0.7241379022598267, loss=1.6796317938072929\n",
            "Epoch 8::Accuracy=0.8275862336158752, loss=1.4472999341528991\n",
            "Epoch 9::Accuracy=0.8275862336158752, loss=1.2443074198632404\n",
            "Epoch 10::Accuracy=0.931034505367279, loss=1.0686601811441883\n",
            "Epoch 11::Accuracy=0.9482758641242981, loss=0.9176312890546076\n",
            "Epoch 12::Accuracy=0.9655172228813171, loss=0.7888869825622131\n",
            "Epoch 13::Accuracy=0.9655172228813171, loss=0.6796801593796961\n",
            "Epoch 14::Accuracy=0.982758641242981, loss=0.5876102360158131\n",
            "Epoch 15::Accuracy=0.982758641242981, loss=0.5101210698485374\n",
            "Epoch 16::Accuracy=1.0, loss=0.4449622304788951\n",
            "Epoch 17::Accuracy=1.0, loss=0.3906248003758233\n",
            "Epoch 18::Accuracy=1.0, loss=0.34498958084090003\n",
            "Epoch 19::Accuracy=1.0, loss=0.30653364558158247\n",
            "Epoch 20::Accuracy=1.0, loss=0.274146880954504\n",
            "Epoch 21::Accuracy=1.0, loss=0.24671469962802425\n",
            "Epoch 22::Accuracy=1.0, loss=0.22320230292349025\n",
            "Epoch 23::Accuracy=1.0, loss=0.20305770275921659\n",
            "Epoch 24::Accuracy=1.0, loss=0.18567240161114726\n",
            "Epoch 25::Accuracy=1.0, loss=0.17055543595603828\n",
            "Epoch 26::Accuracy=1.0, loss=0.15740059810722695\n",
            "Epoch 27::Accuracy=1.0, loss=0.1457813923600419\n",
            "Epoch 28::Accuracy=1.0, loss=0.13555696009305016\n",
            "Epoch 29::Accuracy=1.0, loss=0.1264955315995833\n",
            "Epoch 30::Accuracy=1.0, loss=0.1183956733679977\n",
            "Epoch 31::Accuracy=1.0, loss=0.11116131067532918\n",
            "Epoch 32::Accuracy=1.0, loss=0.1046393499549093\n",
            "Epoch 33::Accuracy=1.0, loss=0.09876422545519369\n",
            "Epoch 34::Accuracy=1.0, loss=0.09344379680937734\n",
            "Epoch 35::Accuracy=1.0, loss=0.08860208139080426\n",
            "Epoch 36::Accuracy=1.0, loss=0.08417424957813888\n",
            "Epoch 37::Accuracy=1.0, loss=0.080129432652531\n",
            "Epoch 38::Accuracy=1.0, loss=0.07640588906561506\n",
            "Epoch 39::Accuracy=1.0, loss=0.07297745687437468\n",
            "Epoch 40::Accuracy=1.0, loss=0.06981787721401658\n",
            "Epoch 41::Accuracy=1.0, loss=0.06688221608256471\n",
            "Epoch 42::Accuracy=1.0, loss=0.06416306227188685\n",
            "Epoch 43::Accuracy=1.0, loss=0.061640237939768826\n",
            "Epoch 44::Accuracy=1.0, loss=0.05927746042866131\n",
            "Epoch 45::Accuracy=1.0, loss=0.05707413883044802\n",
            "Epoch 46::Accuracy=1.0, loss=0.0550146677756104\n",
            "Epoch 47::Accuracy=1.0, loss=0.05308184117592614\n",
            "Epoch 48::Accuracy=1.0, loss=0.05126791559802047\n",
            "Epoch 49::Accuracy=1.0, loss=0.049554555002471495\n",
            "Epoch 50::Accuracy=1.0, loss=0.04795255903796903\n",
            "Epoch 51::Accuracy=1.0, loss=0.04642989112321159\n",
            "Epoch 52::Accuracy=1.0, loss=0.04499889047944854\n",
            "Epoch 53::Accuracy=1.0, loss=0.043642060301298725\n",
            "Epoch 54::Accuracy=1.0, loss=0.04235605050906025\n",
            "Epoch 55::Accuracy=1.0, loss=0.04113238075234253\n",
            "Epoch 56::Accuracy=1.0, loss=0.039981713084953616\n",
            "Epoch 57::Accuracy=1.0, loss=0.03887753032854405\n",
            "Epoch 58::Accuracy=1.0, loss=0.03783229680667664\n",
            "Epoch 59::Accuracy=1.0, loss=0.036834568539955495\n",
            "Epoch 60::Accuracy=1.0, loss=0.03588226575661322\n",
            "Epoch 61::Accuracy=1.0, loss=0.03497663697484752\n",
            "Epoch 62::Accuracy=1.0, loss=0.03410938502578386\n",
            "Epoch 63::Accuracy=1.0, loss=0.03327916532048378\n",
            "Epoch 64::Accuracy=1.0, loss=0.0324877275571484\n",
            "Epoch 65::Accuracy=1.0, loss=0.03172726995022646\n",
            "Epoch 66::Accuracy=1.0, loss=0.03099960530305217\n",
            "Epoch 67::Accuracy=1.0, loss=0.030300523989416402\n",
            "Epoch 68::Accuracy=1.0, loss=0.02963164520995884\n",
            "Epoch 69::Accuracy=1.0, loss=0.028986539274197202\n",
            "Epoch 70::Accuracy=1.0, loss=0.028367231632101125\n",
            "Epoch 71::Accuracy=1.0, loss=0.027772436335939784\n",
            "Epoch 72::Accuracy=1.0, loss=0.027198975568573022\n",
            "Epoch 73::Accuracy=1.0, loss=0.026646331803680492\n",
            "Epoch 74::Accuracy=1.0, loss=0.02611442327756306\n",
            "Epoch 75::Accuracy=1.0, loss=0.025601002307416035\n",
            "Epoch 76::Accuracy=1.0, loss=0.02510488627414251\n",
            "Epoch 77::Accuracy=1.0, loss=0.02462735489524644\n",
            "Epoch 78::Accuracy=1.0, loss=0.02416515478800083\n",
            "Epoch 79::Accuracy=1.0, loss=0.02371886664808824\n",
            "Epoch 80::Accuracy=1.0, loss=0.023288269575428348\n",
            "Epoch 81::Accuracy=1.0, loss=0.022870072348300238\n",
            "Epoch 82::Accuracy=1.0, loss=0.022465360664023923\n",
            "Epoch 83::Accuracy=1.0, loss=0.022074527998358524\n",
            "Epoch 84::Accuracy=1.0, loss=0.021694952581912792\n",
            "Epoch 85::Accuracy=1.0, loss=0.02132858750249805\n",
            "Epoch 86::Accuracy=1.0, loss=0.02097123092971742\n",
            "Epoch 87::Accuracy=1.0, loss=0.020626270260404925\n",
            "Epoch 88::Accuracy=1.0, loss=0.020290937892899943\n",
            "Epoch 89::Accuracy=1.0, loss=0.019964794459720624\n",
            "Epoch 90::Accuracy=1.0, loss=0.01964830949196014\n",
            "Epoch 91::Accuracy=1.0, loss=0.01934228972371282\n",
            "Epoch 92::Accuracy=1.0, loss=0.019041815459535552\n",
            "Epoch 93::Accuracy=1.0, loss=0.018752442255359273\n",
            "Epoch 94::Accuracy=1.0, loss=0.01847038719931553\n",
            "Epoch 95::Accuracy=1.0, loss=0.018194807765620023\n",
            "Epoch 96::Accuracy=1.0, loss=0.017927701031018435\n",
            "Epoch 97::Accuracy=1.0, loss=0.017667471447253023\n",
            "Epoch 98::Accuracy=1.0, loss=0.01741375843191455\n",
            "Epoch 99::Accuracy=1.0, loss=0.01716641740520196\n",
            "Epoch 100::Accuracy=1.0, loss=0.016925651339236004\n"
          ],
          "name": "stdout"
        }
      ]
    },
    {
      "cell_type": "code",
      "metadata": {
        "colab": {
          "base_uri": "https://localhost:8080/",
          "height": 573
        },
        "id": "ogCgaI1OWkaR",
        "outputId": "a9957c6c-f2f0-42d2-a7f5-8b8feba68165"
      },
      "source": [
        "import matplotlib as mpl\r\n",
        "import matplotlib.pyplot as plt\r\n",
        "plt.title('Accuracy',color='white')\r\n",
        "plt.plot(accuracy, 'g', label='acc')\r\n",
        "plt.xlabel('Epochs',color='white')\r\n",
        "plt.ylabel('Acc',color='white')\r\n",
        "plt.legend(loc='lower right')\r\n",
        "plt.xticks(color='white')\r\n",
        "plt.yticks(color='white')\r\n",
        "plt.show()\r\n",
        "\r\n",
        "plt.title('Loss',color='white')\r\n",
        "plt.plot(losses,'r',label='loss')\r\n",
        "plt.xlabel('Epochs',color='white')\r\n",
        "plt.ylabel('Loss',color='white')\r\n",
        "plt.legend()\r\n",
        "plt.xticks(color='white')\r\n",
        "plt.yticks(color='white')\r\n",
        "plt.show()"
      ],
      "execution_count": null,
      "outputs": [
        {
          "output_type": "display_data",
          "data": {
            "image/png": "[encoded data removed]",
            "text/plain": [
              "<Figure size 432x288 with 1 Axes>"
            ]
          },
          "metadata": {
            "tags": [],
            "needs_background": "dark"
          }
        },
        {
          "output_type": "display_data",
          "data": {
            "image/png": "[encoded data removed]",
            "text/plain": [
              "<Figure size 432x288 with 1 Axes>"
            ]
          },
          "metadata": {
            "tags": [],
            "needs_background": "dark"
          }
        }
      ]
    },
    {
      "cell_type": "code",
      "metadata": {
        "colab": {
          "base_uri": "https://localhost:8080/"
        },
        "id": "XCxWxZ9cXUbx",
        "outputId": "3e776d3d-56cb-4785-8caa-75f209544eee"
      },
      "source": [
        "#TESTING\r\n",
        "context = ['People','create','to', 'direct']\r\n",
        "context_vector = make_context_vector(context, word_to_ix)\r\n",
        "a = model(context_vector)\r\n",
        "print(a)\r\n",
        "print(torch.max(a,1))\r\n",
        "#Print result\r\n",
        "print(f'Raw text: {\" \".join(raw_text)}\\n')\r\n",
        "print(f'Context: {context}\\n')\r\n",
        "print(f'Prediction: {ix_to_word[torch.argmax(a[0]).item()]}')"
      ],
      "execution_count": null,
      "outputs": [
        {
          "output_type": "stream",
          "text": [
            "tensor([[-11.8801, -10.8649,  -8.1733, -10.8978,  -5.9613,  -7.6268, -10.8652,\n",
            "          -9.6727, -12.8489,  -9.5890,  -7.3727,  -9.8138,  -8.3892, -11.6096,\n",
            "          -4.6647, -12.2448,  -6.4296,  -9.7634, -12.8779, -10.5833, -12.8029,\n",
            "         -11.3828, -11.4829,  -9.6844, -12.9790, -13.0752, -11.5717, -12.1594,\n",
            "          -6.2928, -10.4810, -11.4111, -10.4536, -10.7557,  -7.1621, -11.6999,\n",
            "         -11.1518,  -7.2715, -10.4384, -11.3888, -11.6783, -11.4464,  -0.0254,\n",
            "          -7.1546,  -5.5012,  -8.0153,  -7.6675, -11.8563,  -9.9954,  -8.3975]],\n",
            "       grad_fn=<LogSoftmaxBackward>)\n",
            "torch.return_types.max(\n",
            "values=tensor([-0.0254], grad_fn=<MaxBackward0>),\n",
            "indices=tensor([41]))\n",
            "Raw text: We are about to study the idea of a computational process. Computational processes are abstract beings that inhabit computers. As they evolve, processes manipulate other abstract things called data. The evolution of a process is directed by a pattern of rules called a program. People create programs to direct processes. In effect, we conjure the spirits of the computer with our spells.\n",
            "\n",
            "Context: ['People', 'create', 'to', 'direct']\n",
            "\n",
            "Prediction: programs\n"
          ],
          "name": "stdout"
        }
      ]
    },
    {
      "cell_type": "code",
      "metadata": {
        "colab": {
          "base_uri": "https://localhost:8080/"
        },
        "id": "Mdreei-Q-fvd",
        "outputId": "ff77cbe2-4941-4568-f59d-fbcf8350cc67"
      },
      "source": [
        "import numpy as np\r\n",
        "np.shape(model.state_dict()['embeddings.weight'])"
      ],
      "execution_count": null,
      "outputs": [
        {
          "output_type": "execute_result",
          "data": {
            "text/plain": [
              "torch.Size([49, 10])"
            ]
          },
          "metadata": {
            "tags": []
          },
          "execution_count": 29
        }
      ]
    },
    {
      "cell_type": "code",
      "metadata": {
        "id": "F8CQyE2VBVgM"
      },
      "source": [
        "class BoWClassifier(nn.Module):  # inheriting from nn.Module!\r\n",
        "\r\n",
        "    def __init__(self, num_labels, vocab_size):\r\n",
        "        # calls the init function of nn.Module.  Dont get confused by syntax,\r\n",
        "        # just always do it in an nn.Module\r\n",
        "        super(BoWClassifier, self).__init__()\r\n",
        "\r\n",
        "        # Define the parameters that you will need.  In this case, we need A and b,\r\n",
        "        # the parameters of the affine mapping.\r\n",
        "        # Torch defines nn.Linear(), which provides the affine map.\r\n",
        "        # Make sure you understand why the input dimension is vocab_size\r\n",
        "        # and the output is num_labels!\r\n",
        "        self.linear = nn.Linear(vocab_size, num_labels)\r\n",
        "\r\n",
        "        # NOTE! The non-linearity log softmax does not have parameters! So we don't need\r\n",
        "        # to worry about that here\r\n",
        "\r\n",
        "    def forward(self, bow_vec):\r\n",
        "        # Pass the input through the linear layer,\r\n",
        "        # then pass that through log_softmax.\r\n",
        "        # Many non-linearities and other functions are in torch.nn.functional\r\n",
        "        return F.log_softmax(self.linear(bow_vec), dim=1)\r\n",
        "\r\n",
        "\r\n",
        "def make_bow_vector(sentence, word_to_ix):\r\n",
        "    vec = torch.zeros(len(word_to_ix))\r\n",
        "    for word in sentence:\r\n",
        "        vec[word_to_ix[word]] += 1\r\n",
        "    return vec.view(1, -1)\r\n",
        "\r\n",
        "\r\n",
        "def make_target(label, label_to_ix):\r\n",
        "    return torch.LongTensor([label_to_ix[label]])"
      ],
      "execution_count": null,
      "outputs": []
    },
    {
      "cell_type": "code",
      "metadata": {
        "id": "E9Ie171IQAHX"
      },
      "source": [
        ""
      ],
      "execution_count": null,
      "outputs": []
    },
    {
      "cell_type": "markdown",
      "metadata": {
        "id": "New5_XxzJEC1"
      },
      "source": [
        "# Example of Skip gram"
      ]
    },
    {
      "cell_type": "markdown",
      "metadata": {
        "id": "Jv6EIhh9QFmY"
      },
      "source": [
        "## Data 불러오기"
      ]
    },
    {
      "cell_type": "code",
      "metadata": {
        "colab": {
          "resources": {
            "http://localhost:8080/nbextensions/google.colab/files.js": {
              "data": "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",
              "ok": true,
              "headers": [
                [
                  "content-type",
                  "application/javascript"
                ]
              ],
              "status": 200,
              "status_text": ""
            }
          },
          "base_uri": "https://localhost:8080/",
          "height": 287
        },
        "id": "512yBFKwGCiI",
        "outputId": "e8d505a5-c6e6-42db-dd9c-a3a9db7ba5c1"
      },
      "source": [
        "# API Token 다운받기\r\n",
        "# 다운받은 API Token 업로드 하기\r\n",
        "!pip install kaggle\r\n",
        "from google.colab import files\r\n",
        "files.upload()\r\n"
      ],
      "execution_count": null,
      "outputs": [
        {
          "output_type": "stream",
          "text": [
            "Requirement already satisfied: kaggle in /usr/local/lib/python3.6/dist-packages (1.5.10)\n",
            "Requirement already satisfied: tqdm in /usr/local/lib/python3.6/dist-packages (from kaggle) (4.41.1)\n",
            "Requirement already satisfied: six>=1.10 in /usr/local/lib/python3.6/dist-packages (from kaggle) (1.15.0)\n",
            "Requirement already satisfied: requests in /usr/local/lib/python3.6/dist-packages (from kaggle) (2.23.0)\n",
            "Requirement already satisfied: urllib3 in /usr/local/lib/python3.6/dist-packages (from kaggle) (1.24.3)\n",
            "Requirement already satisfied: certifi in /usr/local/lib/python3.6/dist-packages (from kaggle) (2020.12.5)\n",
            "Requirement already satisfied: python-slugify in /usr/local/lib/python3.6/dist-packages (from kaggle) (4.0.1)\n",
            "Requirement already satisfied: python-dateutil in /usr/local/lib/python3.6/dist-packages (from kaggle) (2.8.1)\n",
            "Requirement already satisfied: idna<3,>=2.5 in /usr/local/lib/python3.6/dist-packages (from requests->kaggle) (2.10)\n",
            "Requirement already satisfied: chardet<4,>=3.0.2 in /usr/local/lib/python3.6/dist-packages (from requests->kaggle) (3.0.4)\n",
            "Requirement already satisfied: text-unidecode>=1.3 in /usr/local/lib/python3.6/dist-packages (from python-slugify->kaggle) (1.3)\n"
          ],
          "name": "stdout"
        },
        {
          "output_type": "display_data",
          "data": {
            "text/html": [
              "\n",
              "     <input type=\"file\" id=\"files-03056339-e571-4f76-bdf5-9dbf3da9d445\" name=\"files[]\" multiple disabled\n",
              "        style=\"border:none\" />\n",
              "     <output id=\"result-03056339-e571-4f76-bdf5-9dbf3da9d445\">\n",
              "      Upload widget is only available when the cell has been executed in the\n",
              "      current browser session. Please rerun this cell to enable.\n",
              "      </output>\n",
              "      <script src=\"/nbextensions/google.colab/files.js\"></script> "
            ],
            "text/plain": [
              "<IPython.core.display.HTML object>"
            ]
          },
          "metadata": {
            "tags": []
          }
        },
        {
          "output_type": "stream",
          "text": [
            "Saving kaggle.json to kaggle.json\n"
          ],
          "name": "stdout"
        },
        {
          "output_type": "execute_result",
          "data": {
            "text/plain": [
              "{'kaggle.json': b'{\"username\":\"doyooni303\",\"key\":\"91fac564146b8719aa4482ee9779aca2\"}'}"
            ]
          },
          "metadata": {
            "tags": []
          },
          "execution_count": 6
        }
      ]
    },
    {
      "cell_type": "code",
      "metadata": {
        "colab": {
          "base_uri": "https://localhost:8080/"
        },
        "id": "hiiAHFKAHw_r",
        "outputId": "9f4cc370-ebfb-4a2f-c02d-c3a25baafb7f"
      },
      "source": [
        "# json 파일 옮겨주기\r\n",
        "!mkdir -p ~/.kaggle\r\n",
        "!cp kaggle.json ~/.kaggle/\r\n",
        "# Permission Warning 이 일어나지 않도록 \r\n",
        "!chmod 600 ~/.kaggle/kaggle.json\r\n",
        "# 본인이 참가한 모든 대회 보기 \r\n",
        "#!kaggle competitions list\r\n",
        "# 데이터셋 다운로드 받기 - 링크는 그 대회 'Data'에 있음\r\n",
        "! kaggle datasets download -d ashukr/word2vec-data\r\n",
        "# 다운로드 된 것들 다 보기 \r\n",
        "!ls\r\n",
        "# 필요하면 압축 풀기 \r\n",
        "!unzip word2vec-data.zip"
      ],
      "execution_count": null,
      "outputs": [
        {
          "output_type": "stream",
          "text": [
            "Downloading dialogue-lines-of-the-simpsons.zip to /content\n",
            "\r  0% 0.00/3.32M [00:00<?, ?B/s]\n",
            "\r100% 3.32M/3.32M [00:00<00:00, 112MB/s]\n",
            "cache  dialogue-lines-of-the-simpsons.zip  kaggle.json\tsample_data\n",
            "Archive:  dialogue-lines-of-the-simpsons.zip\n",
            "  inflating: simpsons_dataset.csv    \n"
          ],
          "name": "stdout"
        }
      ]
    },
    {
      "cell_type": "code",
      "metadata": {
        "id": "uRadmRqMQiTu"
      },
      "source": [
        "def preprocess(text):\r\n",
        "\r\n",
        "    # Replace punctuation with tokens so we can use them in our model\r\n",
        "    text = text.lower()\r\n",
        "    text = text.replace('.', ' <PERIOD> ')\r\n",
        "    text = text.replace(',', ' <COMMA> ')\r\n",
        "    text = text.replace('\"', ' <QUOTATION_MARK> ')\r\n",
        "    text = text.replace(';', ' <SEMICOLON> ')\r\n",
        "    text = text.replace('!', ' <EXCLAMATION_MARK> ')\r\n",
        "    text = text.replace('?', ' <QUESTION_MARK> ')\r\n",
        "    text = text.replace('(', ' <LEFT_PAREN> ')\r\n",
        "    text = text.replace(')', ' <RIGHT_PAREN> ')\r\n",
        "    text = text.replace('--', ' <HYPHENS> ')\r\n",
        "    text = text.replace('?', ' <QUESTION_MARK> ')\r\n",
        "    # text = text.replace('\\n', ' <NEW_LINE> ')\r\n",
        "    text = text.replace(':', ' <COLON> ')\r\n",
        "    words = text.split()\r\n",
        "    \r\n",
        "    # Remove all words with  5 or fewer occurences\r\n",
        "    word_counts = Counter(words)\r\n",
        "    trimmed_words = [word for word in words if word_counts[word] > 5]\r\n",
        "\r\n",
        "    return trimmed_words\r\n",
        "\r\n",
        "\r\n",
        "def create_lookup_tables(words):\r\n",
        "    \"\"\"\r\n",
        "    Create lookup tables for vocabulary\r\n",
        "    :param words: Input list of words\r\n",
        "    :return: Two dictionaries, vocab_to_int, int_to_vocab\r\n",
        "    \"\"\"\r\n",
        "    word_counts = Counter(words)\r\n",
        "    # sorting the words from most to least frequent in text occurrence\r\n",
        "    sorted_vocab = sorted(word_counts, key=word_counts.get, reverse=True)\r\n",
        "    # create int_to_vocab dictionaries\r\n",
        "    int_to_vocab = {ii: word for ii, word in enumerate(sorted_vocab)}\r\n",
        "    vocab_to_int = {word: ii for ii, word in int_to_vocab.items()}\r\n",
        "\r\n",
        "    return vocab_to_int, int_to_vocab\r\n"
      ],
      "execution_count": null,
      "outputs": []
    }
  ]
}